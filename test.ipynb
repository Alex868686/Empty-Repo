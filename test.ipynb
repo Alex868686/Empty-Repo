import numpy as np
import pandas as pd

x=[]
for i in range(10):
    x.append(i)
    return x

print(x)